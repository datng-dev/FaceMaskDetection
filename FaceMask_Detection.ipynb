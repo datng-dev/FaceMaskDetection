{
  "cells": [
    {
      "cell_type": "code",
      "execution_count": 1,
      "metadata": {
        "id": "Tb01QRbuVj57"
      },
      "outputs": [],
      "source": [
        "import pandas as pd\n",
        "import numpy as np\n",
        "import cv2\n",
        "import json\n",
        "import os\n",
        "import matplotlib.pyplot as plt\n",
        "import random\n",
        "import seaborn as sns\n",
        "from keras.models import Sequential\n",
        "from keras import optimizers\n",
        "from keras import backend as K\n",
        "from keras.layers import Dense, Dropout, Activation, Flatten\n",
        "from keras.layers import Conv2D, MaxPooling2D, BatchNormalization\n",
        "from sklearn.model_selection import train_test_split\n",
        "from keras.preprocessing.image import ImageDataGenerator\n"
      ]
    },
    {
      "cell_type": "code",
      "execution_count": 2,
      "metadata": {
        "collapsed": true,
        "id": "Xab1FXMsVj5_"
      },
      "outputs": [],
      "source": [
        "directory = \"/content/Medical mask/Medical mask/Medical mask/annotations\"\n",
        "image_directory = \"/content/Medical mask/Medical mask/Medical mask/images\"\n",
        "df = pd.read_csv(\"/content/train.csv\")\n",
        "df_test = pd.read_csv(\"/content/submission.csv\")"
      ]
    },
    {
      "cell_type": "code",
      "execution_count": 19,
      "metadata": {
        "id": "3HfrcustVj6A"
      },
      "outputs": [],
      "source": [
        "cvNet = cv2.dnn.readNetFromCaffe('/content/deploy.prototxt', '/content/weights.caffemodel')\n",
        "def getJSON(filePathandName):\n",
        "    with open(filePathandName,'r') as f:\n",
        "        return json.load(f)\n",
        "def adjust_gamma(image, gamma=1.0):\n",
        "    invGamma = 1.0 / gamma\n",
        "    table = np.array([((i / 255.0) ** invGamma) * 255 for i in np.arange(0, 256)])\n",
        "    return cv2.LUT(image.astype(np.uint8), table.astype(np.uint8))"
      ]
    },
    {
      "cell_type": "code",
      "execution_count": 4,
      "metadata": {
        "colab": {
          "base_uri": "https://localhost:8080/"
        },
        "id": "UrfDfiMVVj6B",
        "outputId": "5e303b91-6b2e-4c42-b099-227e1fbe62a4"
      },
      "outputs": [
        {
          "output_type": "execute_result",
          "data": {
            "text/plain": [
              "{'Annotations': [{'Attributes': {},\n",
              "   'BoundingBox': [216, 171, 298, 267],\n",
              "   'Confidence': 1,\n",
              "   'ID': 760042762099771264,\n",
              "   'classname': 'face_no_mask',\n",
              "   'isProtected': False},\n",
              "  {'Attributes': {},\n",
              "   'BoundingBox': [435, 181, 483, 241],\n",
              "   'Confidence': 1,\n",
              "   'ID': 399284903257621248,\n",
              "   'classname': 'face_no_mask',\n",
              "   'isProtected': False},\n",
              "  {'Attributes': {},\n",
              "   'BoundingBox': [723, 172, 793, 253],\n",
              "   'Confidence': 1,\n",
              "   'ID': 80543839202656512,\n",
              "   'classname': 'face_no_mask',\n",
              "   'isProtected': False}],\n",
              " 'FileName': '6287.jpg',\n",
              " 'NumOfAnno': 3}"
            ]
          },
          "metadata": {},
          "execution_count": 4
        }
      ],
      "source": [
        "jsonfiles= []\n",
        "for i in os.listdir(directory):\n",
        "    jsonfiles.append(getJSON(os.path.join(directory,i)))\n",
        "jsonfiles[0]"
      ]
    },
    {
      "cell_type": "code",
      "execution_count": 5,
      "metadata": {
        "colab": {
          "base_uri": "https://localhost:8080/",
          "height": 206
        },
        "id": "cm6iRpL1Vj6C",
        "outputId": "59c9cb9b-4ad9-4e76-f511-608159e0c64e"
      },
      "outputs": [
        {
          "output_type": "execute_result",
          "data": {
            "text/plain": [
              "       name   x1   x2   y1   y2       classname\n",
              "0  2756.png   69  126  294  392  face_with_mask\n",
              "1  2756.png  505   10  723  283  face_with_mask\n",
              "2  2756.png   75  252  264  390   mask_colorful\n",
              "3  2756.png  521  136  711  277   mask_colorful\n",
              "4  6098.jpg  360   85  728  653    face_no_mask"
            ],
            "text/html": [
              "\n",
              "  <div id=\"df-93169a5b-fb14-40e5-8d41-e799aec0e469\">\n",
              "    <div class=\"colab-df-container\">\n",
              "      <div>\n",
              "<style scoped>\n",
              "    .dataframe tbody tr th:only-of-type {\n",
              "        vertical-align: middle;\n",
              "    }\n",
              "\n",
              "    .dataframe tbody tr th {\n",
              "        vertical-align: top;\n",
              "    }\n",
              "\n",
              "    .dataframe thead th {\n",
              "        text-align: right;\n",
              "    }\n",
              "</style>\n",
              "<table border=\"1\" class=\"dataframe\">\n",
              "  <thead>\n",
              "    <tr style=\"text-align: right;\">\n",
              "      <th></th>\n",
              "      <th>name</th>\n",
              "      <th>x1</th>\n",
              "      <th>x2</th>\n",
              "      <th>y1</th>\n",
              "      <th>y2</th>\n",
              "      <th>classname</th>\n",
              "    </tr>\n",
              "  </thead>\n",
              "  <tbody>\n",
              "    <tr>\n",
              "      <th>0</th>\n",
              "      <td>2756.png</td>\n",
              "      <td>69</td>\n",
              "      <td>126</td>\n",
              "      <td>294</td>\n",
              "      <td>392</td>\n",
              "      <td>face_with_mask</td>\n",
              "    </tr>\n",
              "    <tr>\n",
              "      <th>1</th>\n",
              "      <td>2756.png</td>\n",
              "      <td>505</td>\n",
              "      <td>10</td>\n",
              "      <td>723</td>\n",
              "      <td>283</td>\n",
              "      <td>face_with_mask</td>\n",
              "    </tr>\n",
              "    <tr>\n",
              "      <th>2</th>\n",
              "      <td>2756.png</td>\n",
              "      <td>75</td>\n",
              "      <td>252</td>\n",
              "      <td>264</td>\n",
              "      <td>390</td>\n",
              "      <td>mask_colorful</td>\n",
              "    </tr>\n",
              "    <tr>\n",
              "      <th>3</th>\n",
              "      <td>2756.png</td>\n",
              "      <td>521</td>\n",
              "      <td>136</td>\n",
              "      <td>711</td>\n",
              "      <td>277</td>\n",
              "      <td>mask_colorful</td>\n",
              "    </tr>\n",
              "    <tr>\n",
              "      <th>4</th>\n",
              "      <td>6098.jpg</td>\n",
              "      <td>360</td>\n",
              "      <td>85</td>\n",
              "      <td>728</td>\n",
              "      <td>653</td>\n",
              "      <td>face_no_mask</td>\n",
              "    </tr>\n",
              "  </tbody>\n",
              "</table>\n",
              "</div>\n",
              "      <button class=\"colab-df-convert\" onclick=\"convertToInteractive('df-93169a5b-fb14-40e5-8d41-e799aec0e469')\"\n",
              "              title=\"Convert this dataframe to an interactive table.\"\n",
              "              style=\"display:none;\">\n",
              "        \n",
              "  <svg xmlns=\"http://www.w3.org/2000/svg\" height=\"24px\"viewBox=\"0 0 24 24\"\n",
              "       width=\"24px\">\n",
              "    <path d=\"M0 0h24v24H0V0z\" fill=\"none\"/>\n",
              "    <path d=\"M18.56 5.44l.94 2.06.94-2.06 2.06-.94-2.06-.94-.94-2.06-.94 2.06-2.06.94zm-11 1L8.5 8.5l.94-2.06 2.06-.94-2.06-.94L8.5 2.5l-.94 2.06-2.06.94zm10 10l.94 2.06.94-2.06 2.06-.94-2.06-.94-.94-2.06-.94 2.06-2.06.94z\"/><path d=\"M17.41 7.96l-1.37-1.37c-.4-.4-.92-.59-1.43-.59-.52 0-1.04.2-1.43.59L10.3 9.45l-7.72 7.72c-.78.78-.78 2.05 0 2.83L4 21.41c.39.39.9.59 1.41.59.51 0 1.02-.2 1.41-.59l7.78-7.78 2.81-2.81c.8-.78.8-2.07 0-2.86zM5.41 20L4 18.59l7.72-7.72 1.47 1.35L5.41 20z\"/>\n",
              "  </svg>\n",
              "      </button>\n",
              "      \n",
              "  <style>\n",
              "    .colab-df-container {\n",
              "      display:flex;\n",
              "      flex-wrap:wrap;\n",
              "      gap: 12px;\n",
              "    }\n",
              "\n",
              "    .colab-df-convert {\n",
              "      background-color: #E8F0FE;\n",
              "      border: none;\n",
              "      border-radius: 50%;\n",
              "      cursor: pointer;\n",
              "      display: none;\n",
              "      fill: #1967D2;\n",
              "      height: 32px;\n",
              "      padding: 0 0 0 0;\n",
              "      width: 32px;\n",
              "    }\n",
              "\n",
              "    .colab-df-convert:hover {\n",
              "      background-color: #E2EBFA;\n",
              "      box-shadow: 0px 1px 2px rgba(60, 64, 67, 0.3), 0px 1px 3px 1px rgba(60, 64, 67, 0.15);\n",
              "      fill: #174EA6;\n",
              "    }\n",
              "\n",
              "    [theme=dark] .colab-df-convert {\n",
              "      background-color: #3B4455;\n",
              "      fill: #D2E3FC;\n",
              "    }\n",
              "\n",
              "    [theme=dark] .colab-df-convert:hover {\n",
              "      background-color: #434B5C;\n",
              "      box-shadow: 0px 1px 3px 1px rgba(0, 0, 0, 0.15);\n",
              "      filter: drop-shadow(0px 1px 2px rgba(0, 0, 0, 0.3));\n",
              "      fill: #FFFFFF;\n",
              "    }\n",
              "  </style>\n",
              "\n",
              "      <script>\n",
              "        const buttonEl =\n",
              "          document.querySelector('#df-93169a5b-fb14-40e5-8d41-e799aec0e469 button.colab-df-convert');\n",
              "        buttonEl.style.display =\n",
              "          google.colab.kernel.accessAllowed ? 'block' : 'none';\n",
              "\n",
              "        async function convertToInteractive(key) {\n",
              "          const element = document.querySelector('#df-93169a5b-fb14-40e5-8d41-e799aec0e469');\n",
              "          const dataTable =\n",
              "            await google.colab.kernel.invokeFunction('convertToInteractive',\n",
              "                                                     [key], {});\n",
              "          if (!dataTable) return;\n",
              "\n",
              "          const docLinkHtml = 'Like what you see? Visit the ' +\n",
              "            '<a target=\"_blank\" href=https://colab.research.google.com/notebooks/data_table.ipynb>data table notebook</a>'\n",
              "            + ' to learn more about interactive tables.';\n",
              "          element.innerHTML = '';\n",
              "          dataTable['output_type'] = 'display_data';\n",
              "          await google.colab.output.renderOutput(dataTable, element);\n",
              "          const docLink = document.createElement('div');\n",
              "          docLink.innerHTML = docLinkHtml;\n",
              "          element.appendChild(docLink);\n",
              "        }\n",
              "      </script>\n",
              "    </div>\n",
              "  </div>\n",
              "  "
            ]
          },
          "metadata": {},
          "execution_count": 5
        }
      ],
      "source": [
        "df = pd.read_csv(\"train.csv\")\n",
        "df.head()"
      ]
    },
    {
      "cell_type": "code",
      "execution_count": 65,
      "metadata": {
        "colab": {
          "base_uri": "https://localhost:8080/",
          "height": 337
        },
        "id": "801Uulw4Vj6D",
        "outputId": "3c8bf645-76f5-468c-a7f3-ecc9a53030c6"
      },
      "outputs": [
        {
          "output_type": "stream",
          "name": "stderr",
          "text": [
            "/usr/local/lib/python3.7/dist-packages/seaborn/_decorators.py:43: FutureWarning: Pass the following variable as a keyword arg: x. From version 0.12, the only valid positional argument will be `data`, and passing other arguments without an explicit keyword will result in an error or misinterpretation.\n",
            "  FutureWarning\n"
          ]
        },
        {
          "output_type": "execute_result",
          "data": {
            "text/plain": [
              "<matplotlib.axes._subplots.AxesSubplot at 0x7f1d4a05c290>"
            ]
          },
          "metadata": {},
          "execution_count": 65
        },
        {
          "output_type": "display_data",
          "data": {
            "text/plain": [
              "<Figure size 432x288 with 1 Axes>"
            ],
            "image/png": "[encoded data removed]"
          },
          "metadata": {
            "needs_background": "light"
          }
        }
      ],
      "source": [
        "data = []\n",
        "img_size = 124\n",
        "mask = ['face_with_mask']\n",
        "non_mask = [\"face_no_mask\"]\n",
        "labels={'mask':0,'without mask':1}\n",
        "for i in df[\"name\"].unique():\n",
        "    f = i+\".json\"\n",
        "    for j in getJSON(os.path.join(directory,f)).get(\"Annotations\"):\n",
        "        if j[\"classname\"] in mask:\n",
        "            x,y,w,h = j[\"BoundingBox\"]\n",
        "            img = cv2.imread(os.path.join(image_directory,i),1)\n",
        "            img = img[y:h,x:w]\n",
        "            img = cv2.resize(img,(img_size,img_size))\n",
        "            data.append([img,labels[\"mask\"]])\n",
        "        if j[\"classname\"] in non_mask:\n",
        "            x,y,w,h = j[\"BoundingBox\"]\n",
        "            img = cv2.imread(os.path.join(image_directory,i),1)\n",
        "            img = img[y:h,x:w]\n",
        "            img = cv2.resize(img,(img_size,img_size))    \n",
        "            data.append([img,labels[\"without mask\"]])\n",
        "random.shuffle(data)\n",
        "\n",
        "p = []\n",
        "for face in data:\n",
        "    if(face[1] == 0):\n",
        "        p.append(\"Mask\")\n",
        "    else:\n",
        "        p.append(\"No Mask\")\n",
        "sns.countplot(p)"
      ]
    },
    {
      "cell_type": "code",
      "execution_count": 66,
      "metadata": {
        "collapsed": true,
        "id": "eMstVNpGVj6E"
      },
      "outputs": [],
      "source": [
        "X = []\n",
        "Y = []\n",
        "for features,label in data:\n",
        "    X.append(features)\n",
        "    Y.append(label)\n",
        "\n",
        "X = np.array(X)/255.0\n",
        "X = X.reshape(-1,124,124,3)\n",
        "Y = np.array(Y)"
      ]
    },
    {
      "cell_type": "code",
      "execution_count": 67,
      "metadata": {
        "colab": {
          "base_uri": "https://localhost:8080/"
        },
        "id": "SZpwBMZgVj6F",
        "outputId": "e17d398a-c977-4b9a-a77f-ec6008e33ff5"
      },
      "outputs": [
        {
          "output_type": "stream",
          "name": "stdout",
          "text": [
            "Epoch 1/50\n"
          ]
        },
        {
          "output_type": "stream",
          "name": "stderr",
          "text": [
            "/usr/local/lib/python3.7/dist-packages/ipykernel_launcher.py:36: UserWarning: `Model.fit_generator` is deprecated and will be removed in a future version. Please use `Model.fit`, which supports generators.\n"
          ]
        },
        {
          "output_type": "stream",
          "name": "stdout",
          "text": [
            "143/143 [==============================] - 24s 154ms/step - loss: 0.4495 - accuracy: 0.8329 - val_loss: 0.2260 - val_accuracy: 0.9270\n",
            "Epoch 2/50\n",
            "143/143 [==============================] - 20s 142ms/step - loss: 0.2865 - accuracy: 0.8831 - val_loss: 0.2037 - val_accuracy: 0.9200\n",
            "Epoch 3/50\n",
            "143/143 [==============================] - 20s 142ms/step - loss: 0.2739 - accuracy: 0.8850 - val_loss: 0.2195 - val_accuracy: 0.9183\n",
            "Epoch 4/50\n",
            "143/143 [==============================] - 20s 141ms/step - loss: 0.2650 - accuracy: 0.8925 - val_loss: 0.1865 - val_accuracy: 0.9357\n",
            "Epoch 5/50\n",
            "143/143 [==============================] - 20s 142ms/step - loss: 0.2372 - accuracy: 0.9028 - val_loss: 0.1854 - val_accuracy: 0.9400\n",
            "Epoch 6/50\n",
            "143/143 [==============================] - 21s 143ms/step - loss: 0.2423 - accuracy: 0.8988 - val_loss: 0.1889 - val_accuracy: 0.9209\n",
            "Epoch 7/50\n",
            "143/143 [==============================] - 20s 141ms/step - loss: 0.2498 - accuracy: 0.9008 - val_loss: 0.1715 - val_accuracy: 0.9426\n",
            "Epoch 8/50\n",
            "143/143 [==============================] - 20s 142ms/step - loss: 0.2402 - accuracy: 0.9069 - val_loss: 0.2084 - val_accuracy: 0.9243\n",
            "Epoch 9/50\n",
            "143/143 [==============================] - 20s 143ms/step - loss: 0.2235 - accuracy: 0.9056 - val_loss: 0.1853 - val_accuracy: 0.9348\n",
            "Epoch 10/50\n",
            "143/143 [==============================] - 20s 142ms/step - loss: 0.2289 - accuracy: 0.9113 - val_loss: 0.1736 - val_accuracy: 0.9322\n",
            "Epoch 11/50\n",
            "143/143 [==============================] - 20s 142ms/step - loss: 0.2173 - accuracy: 0.9126 - val_loss: 0.1885 - val_accuracy: 0.9313\n",
            "Epoch 12/50\n",
            "143/143 [==============================] - 20s 142ms/step - loss: 0.2225 - accuracy: 0.9203 - val_loss: 0.1715 - val_accuracy: 0.9426\n",
            "Epoch 13/50\n",
            "143/143 [==============================] - 20s 142ms/step - loss: 0.2263 - accuracy: 0.9126 - val_loss: 0.1747 - val_accuracy: 0.9417\n",
            "Epoch 14/50\n",
            "143/143 [==============================] - 20s 142ms/step - loss: 0.2197 - accuracy: 0.9115 - val_loss: 0.1726 - val_accuracy: 0.9443\n",
            "Epoch 15/50\n",
            "143/143 [==============================] - 20s 141ms/step - loss: 0.2164 - accuracy: 0.9168 - val_loss: 0.1674 - val_accuracy: 0.9400\n",
            "Epoch 16/50\n",
            "143/143 [==============================] - 20s 141ms/step - loss: 0.2052 - accuracy: 0.9236 - val_loss: 0.1671 - val_accuracy: 0.9461\n",
            "Epoch 17/50\n",
            "143/143 [==============================] - 20s 142ms/step - loss: 0.2236 - accuracy: 0.9093 - val_loss: 0.1916 - val_accuracy: 0.9374\n",
            "Epoch 18/50\n",
            "143/143 [==============================] - 20s 141ms/step - loss: 0.2192 - accuracy: 0.9170 - val_loss: 0.1658 - val_accuracy: 0.9443\n",
            "Epoch 19/50\n",
            "143/143 [==============================] - 20s 141ms/step - loss: 0.2103 - accuracy: 0.9201 - val_loss: 0.1626 - val_accuracy: 0.9426\n",
            "Epoch 20/50\n",
            "143/143 [==============================] - 20s 142ms/step - loss: 0.2005 - accuracy: 0.9183 - val_loss: 0.1821 - val_accuracy: 0.9374\n",
            "Epoch 21/50\n",
            "143/143 [==============================] - 20s 141ms/step - loss: 0.2087 - accuracy: 0.9153 - val_loss: 0.1653 - val_accuracy: 0.9504\n",
            "Epoch 22/50\n",
            "143/143 [==============================] - 20s 141ms/step - loss: 0.1988 - accuracy: 0.9262 - val_loss: 0.1613 - val_accuracy: 0.9374\n",
            "Epoch 23/50\n",
            "143/143 [==============================] - 20s 141ms/step - loss: 0.2030 - accuracy: 0.9207 - val_loss: 0.1651 - val_accuracy: 0.9504\n",
            "Epoch 24/50\n",
            "143/143 [==============================] - 20s 141ms/step - loss: 0.1917 - accuracy: 0.9302 - val_loss: 0.1584 - val_accuracy: 0.9487\n",
            "Epoch 25/50\n",
            "143/143 [==============================] - 20s 142ms/step - loss: 0.1895 - accuracy: 0.9277 - val_loss: 0.1915 - val_accuracy: 0.9478\n",
            "Epoch 26/50\n",
            "143/143 [==============================] - 20s 141ms/step - loss: 0.1951 - accuracy: 0.9238 - val_loss: 0.1628 - val_accuracy: 0.9417\n",
            "Epoch 27/50\n",
            "143/143 [==============================] - 20s 141ms/step - loss: 0.1868 - accuracy: 0.9275 - val_loss: 0.1566 - val_accuracy: 0.9487\n",
            "Epoch 28/50\n",
            "143/143 [==============================] - 20s 142ms/step - loss: 0.1950 - accuracy: 0.9277 - val_loss: 0.1549 - val_accuracy: 0.9478\n",
            "Epoch 29/50\n",
            "143/143 [==============================] - 20s 142ms/step - loss: 0.1971 - accuracy: 0.9234 - val_loss: 0.1627 - val_accuracy: 0.9504\n",
            "Epoch 30/50\n",
            "143/143 [==============================] - 20s 141ms/step - loss: 0.1932 - accuracy: 0.9242 - val_loss: 0.1720 - val_accuracy: 0.9504\n",
            "Epoch 31/50\n",
            "143/143 [==============================] - 20s 141ms/step - loss: 0.1944 - accuracy: 0.9210 - val_loss: 0.1583 - val_accuracy: 0.9530\n",
            "Epoch 32/50\n",
            "143/143 [==============================] - 21s 143ms/step - loss: 0.1912 - accuracy: 0.9297 - val_loss: 0.1644 - val_accuracy: 0.9504\n",
            "Epoch 33/50\n",
            "143/143 [==============================] - 20s 142ms/step - loss: 0.1795 - accuracy: 0.9312 - val_loss: 0.1497 - val_accuracy: 0.9504\n",
            "Epoch 34/50\n",
            "143/143 [==============================] - 20s 143ms/step - loss: 0.1781 - accuracy: 0.9288 - val_loss: 0.1536 - val_accuracy: 0.9513\n",
            "Epoch 35/50\n",
            "143/143 [==============================] - 20s 141ms/step - loss: 0.1753 - accuracy: 0.9345 - val_loss: 0.1734 - val_accuracy: 0.9470\n",
            "Epoch 36/50\n",
            "143/143 [==============================] - 20s 142ms/step - loss: 0.1838 - accuracy: 0.9288 - val_loss: 0.1563 - val_accuracy: 0.9557\n",
            "Epoch 37/50\n",
            "143/143 [==============================] - 20s 143ms/step - loss: 0.1659 - accuracy: 0.9337 - val_loss: 0.1625 - val_accuracy: 0.9487\n",
            "Epoch 38/50\n",
            "143/143 [==============================] - 20s 142ms/step - loss: 0.1679 - accuracy: 0.9339 - val_loss: 0.1555 - val_accuracy: 0.9496\n",
            "Epoch 39/50\n",
            "143/143 [==============================] - 20s 143ms/step - loss: 0.1701 - accuracy: 0.9347 - val_loss: 0.1683 - val_accuracy: 0.9513\n",
            "Epoch 40/50\n",
            "143/143 [==============================] - 20s 142ms/step - loss: 0.1840 - accuracy: 0.9330 - val_loss: 0.1476 - val_accuracy: 0.9539\n",
            "Epoch 41/50\n",
            "143/143 [==============================] - 20s 141ms/step - loss: 0.1685 - accuracy: 0.9326 - val_loss: 0.1573 - val_accuracy: 0.9548\n",
            "Epoch 42/50\n",
            "143/143 [==============================] - 20s 141ms/step - loss: 0.1673 - accuracy: 0.9354 - val_loss: 0.1480 - val_accuracy: 0.9565\n",
            "Epoch 43/50\n",
            "143/143 [==============================] - 20s 141ms/step - loss: 0.1730 - accuracy: 0.9343 - val_loss: 0.1653 - val_accuracy: 0.9557\n",
            "Epoch 44/50\n",
            "143/143 [==============================] - 20s 142ms/step - loss: 0.1922 - accuracy: 0.9242 - val_loss: 0.1669 - val_accuracy: 0.9504\n",
            "Epoch 45/50\n",
            "143/143 [==============================] - 20s 142ms/step - loss: 0.1621 - accuracy: 0.9376 - val_loss: 0.1539 - val_accuracy: 0.9522\n",
            "Epoch 46/50\n",
            "143/143 [==============================] - 20s 141ms/step - loss: 0.1768 - accuracy: 0.9363 - val_loss: 0.1524 - val_accuracy: 0.9600\n",
            "Epoch 47/50\n",
            "143/143 [==============================] - 20s 141ms/step - loss: 0.1628 - accuracy: 0.9387 - val_loss: 0.1447 - val_accuracy: 0.9539\n",
            "Epoch 48/50\n",
            "143/143 [==============================] - 20s 142ms/step - loss: 0.1732 - accuracy: 0.9315 - val_loss: 0.1438 - val_accuracy: 0.9548\n",
            "Epoch 49/50\n",
            "143/143 [==============================] - 21s 144ms/step - loss: 0.1609 - accuracy: 0.9402 - val_loss: 0.1597 - val_accuracy: 0.9548\n",
            "Epoch 50/50\n",
            "143/143 [==============================] - 20s 143ms/step - loss: 0.1576 - accuracy: 0.9383 - val_loss: 0.1524 - val_accuracy: 0.9539\n"
          ]
        }
      ],
      "source": [
        "model = Sequential()\n",
        "\n",
        "model.add(Conv2D(32, (3, 3), padding = \"same\", activation='relu', input_shape=(124,124,3)))\n",
        "model.add(Conv2D(64, (3, 3), activation='relu'))\n",
        "model.add(Conv2D(128, (3, 3), activation='relu'))\n",
        "model.add(MaxPooling2D(pool_size=(2,2)))\n",
        "model.add(Dropout(0.25))\n",
        " \n",
        "model.add(Flatten())\n",
        "model.add(Dropout(0.5))\n",
        "model.add(Dense(50, activation='relu'))\n",
        "model.add(Dropout(0.5))\n",
        "model.add(Dense(1, activation='sigmoid'))\n",
        "\n",
        "model.compile(loss='binary_crossentropy', optimizer='adam' ,metrics=['accuracy'])\n",
        "xtrain,xval,ytrain,yval=train_test_split(X, Y,train_size=0.8,random_state=0)\n",
        "\n",
        "datagen = ImageDataGenerator(\n",
        "        featurewise_center=False,  \n",
        "        samplewise_center=False,  \n",
        "        featurewise_std_normalization=False,  \n",
        "        samplewise_std_normalization=False,  \n",
        "        zca_whitening=False,    \n",
        "        rotation_range=15,    \n",
        "        width_shift_range=0.1,\n",
        "        height_shift_range=0.1,  \n",
        "        horizontal_flip=True,  \n",
        "        vertical_flip=False)\n",
        "\n",
        "datagen.fit(xtrain)\n",
        "\n",
        "history = model.fit_generator(datagen.flow(xtrain, ytrain, batch_size=32),\n",
        "                    steps_per_epoch=xtrain.shape[0]//32,\n",
        "                    epochs=50,\n",
        "                    verbose=1,\n",
        "                    validation_data=(xval, yval))"
      ]
    },
    {
      "cell_type": "code",
      "source": [
        ""
      ],
      "metadata": {
        "colab": {
          "base_uri": "https://localhost:8080/"
        },
        "id": "exlhRrWKhAiD",
        "outputId": "90278aed-058d-486a-d575-888e7788c9d5"
      },
      "execution_count": 23,
      "outputs": [
        {
          "output_type": "execute_result",
          "data": {
            "text/plain": [
              "0"
            ]
          },
          "metadata": {},
          "execution_count": 23
        }
      ]
    },
    {
      "cell_type": "code",
      "source": [
        ""
      ],
      "metadata": {
        "id": "9-YhKgUVjplv"
      },
      "execution_count": null,
      "outputs": []
    }
  ],
  "metadata": {
    "kernelspec": {
      "display_name": "Python 3",
      "language": "python",
      "name": "python3"
    },
    "language_info": {
      "codemirror_mode": {
        "name": "ipython",
        "version": 3
      },
      "file_extension": ".py",
      "mimetype": "text/x-python",
      "name": "python",
      "nbconvert_exporter": "python",
      "pygments_lexer": "ipython3",
      "version": "3.5.4"
    },
    "colab": {
      "name": "FaceMask_Detection.ipynb",
      "provenance": []
    },
    "accelerator": "GPU"
  },
  "nbformat": 4,
  "nbformat_minor": 0
}